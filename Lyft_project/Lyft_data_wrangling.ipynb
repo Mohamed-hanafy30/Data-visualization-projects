{
 "cells": [
  {
   "cell_type": "markdown",
   "metadata": {},
   "source": [
    "# Introduction\n",
    "\n",
    "\n",
    "This project has two parts that demonstrate the importance and value of data visualization techniques in the data analysis process. In the first part, you will use Python visualization libraries to systematically explore a selected dataset, starting from plots of single variables and building up to plots of multiple variables. In the second part, you will produce a short presentation that illustrates interesting properties, trends, and relationships that you discovered in your selected dataset. The primary method of conveying your findings will be through transforming your exploratory visualizations from the first part into polished, explanatory visualizations."
   ]
  },
  {
   "cell_type": "markdown",
   "metadata": {},
   "source": [
    "# What do I need to install?\n",
    "\n",
    "This project uses Python 3 and is designed to be completed through the Jupyter Notebooks IDE. It is highly recommended that you use the Anaconda distribution to install Python, since the distribution includes all necessary Python libraries as well as Jupyter Notebooks. The following libraries are expected to be used in this project:\n",
    "\n",
    "- [Numpy](https://numpy.org/)\n",
    "- [Pandas](http://pandas.pydata.org/)\n",
    "- [Seaborn](https://seaborn.pydata.org/)\n",
    "- [matplotlib](http://matplotlib.org/)"
   ]
  },
  {
   "cell_type": "markdown",
   "metadata": {},
   "source": [
    "\n",
    "# Why this project?\n",
    "\n",
    "Data visualization is an important skill that is used in many parts of the data analysis process.\n",
    "Exploratory data visualization generally occurs during and after the data wrangling process, and is the main method that you will use to understand the patterns and relationships present in your data. This understanding will help you approach any statistical analyses and will help you build conclusions and findings. This process might also illuminate additional data cleaning tasks to be performed. Explanatory data visualization techniques are used after generating your findings, and are used to help communicate your results to others. Understanding design considerations will make sure that your message is clear and effective. In addition to being a good producer of visualizations, going through this project will also help you be a good consumer of visualizations that are presented to you\n",
    "by others.\n",
    "\n",
    "# After completing this project, we will be able to:\n",
    "\n",
    "- Supplement statistics with visualizations to build understanding of data.\n",
    "\n",
    "- Choose appropriate plots, limits, transformations, and aesthetics to explore a dataset, allowing you to understand distributions of variables and relationships between features.\n",
    "\n",
    "- Use design principles to create effective visualizations for communicating findings to an audience.\n"
   ]
  },
  {
   "cell_type": "markdown",
   "metadata": {},
   "source": [
    "# Project Details\n",
    "\n",
    "This project is divided into two major parts. In the first part, we will conduct an **exploratory data analysis** on a dataset of your choosing. We will use Python data science and data visualization libraries to explore the dataset’s variables and understand the data’s structure, oddities, patterns and relationships. The analysis in this part should be structured, going from simple univariate relationships up through multivariate relationships, but it does not need to be clean or perfect. There is no one single answer that needs to come out of a given dataset. This part of the project is your opportunity to ask questions of the data and make your own discoveries. It’s important to keep in mind that sometimes exploration can lead to dead ends, and that it can take multiple steps to dig down to what you’re truly looking for. Be patient with your steps, document your work carefully, and be thorough in the perspective that you choose to take with your dataset.\n",
    "\n",
    "In the second part, you will take your main findings from your exploration and convey them to others through an **explanatory analysis**. To this end, you will create a slide deck that leverages polished, explanatory visualizations to communicate your results. This part of the project should make heavy use of the first part of the project. Select one or two major paths in your exploration, choose relevant visualizations along that path, and then polish them to construct a story for your readers to understand what you found.\n"
   ]
  },
  {
   "cell_type": "markdown",
   "metadata": {},
   "source": [
    "# Step 1: Choose your Dataset\n",
    "\n",
    "\n",
    "[Ford GoBike System Data](https://www.google.com/url?q=https://www.fordgobike.com/system-data&sa=D&ust=1554486256012000)\n",
    "\n",
    "\n",
    "## Brief summary for Dataset\n",
    "\n",
    "### Ford GoBike System Data\n",
    "\n",
    "- This data set includes information about individual rides made in a bike-sharing system covering the greater San Francisco Bay area.\n",
    "\n",
    "- Note that this dataset will require some data wrangling in order to make it tidy for analysis. There are multiple cities covered by the linked system, and multiple data files will need to be joined together if a full year’s coverage is desired."
   ]
  },
  {
   "cell_type": "markdown",
   "metadata": {},
   "source": [
    "# Data gathering\n",
    "\n",
    "I will download data files foe each month from this [Link](https://www.google.com/url?q=https://www.fordgobike.com/system-data&sa=D&ust=1554486256012000) then i use data combing.ipynb to megre each file in single data frame then send it to a **csv** file which i read in this file"
   ]
  },
  {
   "cell_type": "code",
   "execution_count": 1,
   "metadata": {},
   "outputs": [],
   "source": [
    "import pandas as pd\n",
    "import numpy as np\n",
    "import matplotlib.pyplot as plt\n",
    "import seaborn as sns\n",
    "%matplotlib inline\n",
    "from datetime import datetime\n"
   ]
  },
  {
   "cell_type": "code",
   "execution_count": 2,
   "metadata": {},
   "outputs": [
    {
     "name": "stderr",
     "output_type": "stream",
     "text": [
      "C:\\Users\\Eng-mody\\Anaconda3\\lib\\site-packages\\IPython\\core\\interactiveshell.py:3057: DtypeWarning: Columns (5,6,7,8,9,10,11,14,15,16) have mixed types. Specify dtype option on import or set low_memory=False.\n",
      "  interactivity=interactivity, compiler=compiler, result=result)\n"
     ]
    }
   ],
   "source": [
    "df= pd.read_csv(r'C:\\Users\\Eng-mody\\Desktop\\Lyft bike data\\data.csv')"
   ]
  },
  {
   "cell_type": "code",
   "execution_count": 3,
   "metadata": {},
   "outputs": [
    {
     "data": {
      "text/html": [
       "<div>\n",
       "<style scoped>\n",
       "    .dataframe tbody tr th:only-of-type {\n",
       "        vertical-align: middle;\n",
       "    }\n",
       "\n",
       "    .dataframe tbody tr th {\n",
       "        vertical-align: top;\n",
       "    }\n",
       "\n",
       "    .dataframe thead th {\n",
       "        text-align: right;\n",
       "    }\n",
       "</style>\n",
       "<table border=\"1\" class=\"dataframe\">\n",
       "  <thead>\n",
       "    <tr style=\"text-align: right;\">\n",
       "      <th></th>\n",
       "      <th>Unnamed: 0</th>\n",
       "      <th>bike_id</th>\n",
       "      <th>duration_sec</th>\n",
       "      <th>end_station_id</th>\n",
       "      <th>end_station_name</th>\n",
       "      <th>end_time</th>\n",
       "      <th>ended_at</th>\n",
       "      <th>is_equity</th>\n",
       "      <th>member_casual</th>\n",
       "      <th>rental_access_method</th>\n",
       "      <th>ride_id</th>\n",
       "      <th>rideable_type</th>\n",
       "      <th>start_station_id</th>\n",
       "      <th>start_station_name</th>\n",
       "      <th>start_time</th>\n",
       "      <th>started_at</th>\n",
       "      <th>user_type</th>\n",
       "    </tr>\n",
       "  </thead>\n",
       "  <tbody>\n",
       "    <tr>\n",
       "      <th>0</th>\n",
       "      <td>0</td>\n",
       "      <td>96.0</td>\n",
       "      <td>80110.0</td>\n",
       "      <td>43.0</td>\n",
       "      <td>San Francisco Public Library (Grove St at Hyde...</td>\n",
       "      <td>2018-01-01 15:12:50.2450</td>\n",
       "      <td>NaN</td>\n",
       "      <td>NaN</td>\n",
       "      <td>NaN</td>\n",
       "      <td>NaN</td>\n",
       "      <td>NaN</td>\n",
       "      <td>NaN</td>\n",
       "      <td>74.0</td>\n",
       "      <td>Laguna St at Hayes St</td>\n",
       "      <td>2017-12-31 16:57:39.6540</td>\n",
       "      <td>NaN</td>\n",
       "      <td>Customer</td>\n",
       "    </tr>\n",
       "    <tr>\n",
       "      <th>1</th>\n",
       "      <td>1</td>\n",
       "      <td>88.0</td>\n",
       "      <td>78800.0</td>\n",
       "      <td>96.0</td>\n",
       "      <td>Dolores St at 15th St</td>\n",
       "      <td>2018-01-01 13:49:55.6170</td>\n",
       "      <td>NaN</td>\n",
       "      <td>NaN</td>\n",
       "      <td>NaN</td>\n",
       "      <td>NaN</td>\n",
       "      <td>NaN</td>\n",
       "      <td>NaN</td>\n",
       "      <td>284.0</td>\n",
       "      <td>Yerba Buena Center for the Arts (Howard St at ...</td>\n",
       "      <td>2017-12-31 15:56:34.8420</td>\n",
       "      <td>NaN</td>\n",
       "      <td>Customer</td>\n",
       "    </tr>\n",
       "    <tr>\n",
       "      <th>2</th>\n",
       "      <td>2</td>\n",
       "      <td>1094.0</td>\n",
       "      <td>45768.0</td>\n",
       "      <td>245.0</td>\n",
       "      <td>Downtown Berkeley BART</td>\n",
       "      <td>2018-01-01 11:28:36.8830</td>\n",
       "      <td>NaN</td>\n",
       "      <td>NaN</td>\n",
       "      <td>NaN</td>\n",
       "      <td>NaN</td>\n",
       "      <td>NaN</td>\n",
       "      <td>NaN</td>\n",
       "      <td>245.0</td>\n",
       "      <td>Downtown Berkeley BART</td>\n",
       "      <td>2017-12-31 22:45:48.4110</td>\n",
       "      <td>NaN</td>\n",
       "      <td>Customer</td>\n",
       "    </tr>\n",
       "    <tr>\n",
       "      <th>3</th>\n",
       "      <td>3</td>\n",
       "      <td>2831.0</td>\n",
       "      <td>62172.0</td>\n",
       "      <td>5.0</td>\n",
       "      <td>Powell St BART Station (Market St at 5th St)</td>\n",
       "      <td>2018-01-01 10:47:23.5310</td>\n",
       "      <td>NaN</td>\n",
       "      <td>NaN</td>\n",
       "      <td>NaN</td>\n",
       "      <td>NaN</td>\n",
       "      <td>NaN</td>\n",
       "      <td>NaN</td>\n",
       "      <td>60.0</td>\n",
       "      <td>8th St at Ringold St</td>\n",
       "      <td>2017-12-31 17:31:10.6360</td>\n",
       "      <td>NaN</td>\n",
       "      <td>Customer</td>\n",
       "    </tr>\n",
       "    <tr>\n",
       "      <th>4</th>\n",
       "      <td>4</td>\n",
       "      <td>3167.0</td>\n",
       "      <td>43603.0</td>\n",
       "      <td>247.0</td>\n",
       "      <td>Fulton St at Bancroft Way</td>\n",
       "      <td>2018-01-01 02:29:57.5710</td>\n",
       "      <td>NaN</td>\n",
       "      <td>NaN</td>\n",
       "      <td>NaN</td>\n",
       "      <td>NaN</td>\n",
       "      <td>NaN</td>\n",
       "      <td>NaN</td>\n",
       "      <td>239.0</td>\n",
       "      <td>Bancroft Way at Telegraph Ave</td>\n",
       "      <td>2017-12-31 14:23:14.0010</td>\n",
       "      <td>NaN</td>\n",
       "      <td>Subscriber</td>\n",
       "    </tr>\n",
       "  </tbody>\n",
       "</table>\n",
       "</div>"
      ],
      "text/plain": [
       "   Unnamed: 0  bike_id  duration_sec  end_station_id  \\\n",
       "0           0     96.0       80110.0            43.0   \n",
       "1           1     88.0       78800.0            96.0   \n",
       "2           2   1094.0       45768.0           245.0   \n",
       "3           3   2831.0       62172.0             5.0   \n",
       "4           4   3167.0       43603.0           247.0   \n",
       "\n",
       "                                    end_station_name  \\\n",
       "0  San Francisco Public Library (Grove St at Hyde...   \n",
       "1                              Dolores St at 15th St   \n",
       "2                             Downtown Berkeley BART   \n",
       "3       Powell St BART Station (Market St at 5th St)   \n",
       "4                          Fulton St at Bancroft Way   \n",
       "\n",
       "                   end_time ended_at is_equity member_casual  \\\n",
       "0  2018-01-01 15:12:50.2450      NaN       NaN           NaN   \n",
       "1  2018-01-01 13:49:55.6170      NaN       NaN           NaN   \n",
       "2  2018-01-01 11:28:36.8830      NaN       NaN           NaN   \n",
       "3  2018-01-01 10:47:23.5310      NaN       NaN           NaN   \n",
       "4  2018-01-01 02:29:57.5710      NaN       NaN           NaN   \n",
       "\n",
       "  rental_access_method ride_id rideable_type  start_station_id  \\\n",
       "0                  NaN     NaN           NaN              74.0   \n",
       "1                  NaN     NaN           NaN             284.0   \n",
       "2                  NaN     NaN           NaN             245.0   \n",
       "3                  NaN     NaN           NaN              60.0   \n",
       "4                  NaN     NaN           NaN             239.0   \n",
       "\n",
       "                                  start_station_name  \\\n",
       "0                              Laguna St at Hayes St   \n",
       "1  Yerba Buena Center for the Arts (Howard St at ...   \n",
       "2                             Downtown Berkeley BART   \n",
       "3                               8th St at Ringold St   \n",
       "4                      Bancroft Way at Telegraph Ave   \n",
       "\n",
       "                 start_time started_at   user_type  \n",
       "0  2017-12-31 16:57:39.6540        NaN    Customer  \n",
       "1  2017-12-31 15:56:34.8420        NaN    Customer  \n",
       "2  2017-12-31 22:45:48.4110        NaN    Customer  \n",
       "3  2017-12-31 17:31:10.6360        NaN    Customer  \n",
       "4  2017-12-31 14:23:14.0010        NaN  Subscriber  "
      ]
     },
     "execution_count": 3,
     "metadata": {},
     "output_type": "execute_result"
    }
   ],
   "source": [
    "df.head()"
   ]
  },
  {
   "cell_type": "code",
   "execution_count": 4,
   "metadata": {},
   "outputs": [
    {
     "data": {
      "text/plain": [
       "(5841122, 17)"
      ]
     },
     "execution_count": 4,
     "metadata": {},
     "output_type": "execute_result"
    }
   ],
   "source": [
    "df.shape"
   ]
  },
  {
   "cell_type": "code",
   "execution_count": 5,
   "metadata": {},
   "outputs": [
    {
     "name": "stdout",
     "output_type": "stream",
     "text": [
      "<class 'pandas.core.frame.DataFrame'>\n",
      "RangeIndex: 5841122 entries, 0 to 5841121\n",
      "Data columns (total 17 columns):\n",
      "Unnamed: 0              int64\n",
      "bike_id                 float64\n",
      "duration_sec            float64\n",
      "end_station_id          float64\n",
      "end_station_name        object\n",
      "end_time                object\n",
      "ended_at                object\n",
      "is_equity               object\n",
      "member_casual           object\n",
      "rental_access_method    object\n",
      "ride_id                 object\n",
      "rideable_type           object\n",
      "start_station_id        float64\n",
      "start_station_name      object\n",
      "start_time              object\n",
      "started_at              object\n",
      "user_type               object\n",
      "dtypes: float64(4), int64(1), object(12)\n",
      "memory usage: 757.6+ MB\n"
     ]
    }
   ],
   "source": [
    "df.info()"
   ]
  },
  {
   "cell_type": "code",
   "execution_count": 6,
   "metadata": {},
   "outputs": [
    {
     "name": "stdout",
     "output_type": "stream",
     "text": [
      "Total number of dublicated entry is 0\n"
     ]
    }
   ],
   "source": [
    "print(\"Total number of dublicated entry is {}\".format(df.duplicated().sum()))"
   ]
  },
  {
   "cell_type": "code",
   "execution_count": 7,
   "metadata": {},
   "outputs": [
    {
     "name": "stdout",
     "output_type": "stream",
     "text": [
      "total percentage of nulls in each column is \n",
      "Unnamed: 0               0.000\n",
      "bike_id                  3.809\n",
      "duration_sec             3.809\n",
      "end_station_id          10.283\n",
      "end_station_name        10.263\n",
      "end_time                 3.809\n",
      "ended_at                96.191\n",
      "is_equity               97.633\n",
      "member_casual           96.191\n",
      "rental_access_method    89.310\n",
      "ride_id                 96.191\n",
      "rideable_type           96.191\n",
      "start_station_id        10.177\n",
      "start_station_name      10.157\n",
      "start_time               3.809\n",
      "started_at              96.191\n",
      "user_type                3.809\n",
      "dtype: float64 \n"
     ]
    }
   ],
   "source": [
    "x = (df.isnull().sum()/df.shape[0])*100\n",
    "\n",
    "print(\"total percentage of nulls in each column is \\n{} \".format(round(x,3)))"
   ]
  },
  {
   "cell_type": "code",
   "execution_count": 8,
   "metadata": {},
   "outputs": [
    {
     "name": "stdout",
     "output_type": "stream",
     "text": [
      "Total number of unique bikes in our data frame is 14832\n"
     ]
    }
   ],
   "source": [
    "print(\"Total number of unique bikes in our data frame is {}\".format(df.bike_id.nunique()))"
   ]
  },
  {
   "cell_type": "markdown",
   "metadata": {},
   "source": [
    "## Dataset Structure\n",
    "\n",
    "There are **14832** bikes in this dataset with 5,841,122 rows and 17 features **('bike_id','duration_sec','end_station_id',\n",
    "'end_station_name','end_time','ended_at','is_equity','member_casual','rental_access_method','ride_id','rideable_type',\n",
    "'start_station_id','start_station_name','start_time','started_at','user_type'.)** Most variables are numeric apart from the gender, user type and location names which are objects.\n",
    "\n",
    "\n",
    "\n",
    "## Main areas of interest in the dataset\n",
    "\n",
    "1. Average trip times \n",
    "2. Monthly bike ride trend by average trip times \n"
   ]
  },
  {
   "cell_type": "markdown",
   "metadata": {},
   "source": [
    "## DATA ISSUES\n",
    "\n",
    "- The time variables in this dataset are all string. They need to be converted to datetime format for the analysis.\n",
    "- The time variables can be broken down into time of day, day of the week, or month of the year.\n",
    "- The dataset provides membership birth year, so ages can be derived by using the year of the dataset, 2017, to divide by the  membership birth year.\n",
    "- There are columns contain very high percentage of nulls like **ended_at- is_equity -member_casual         rental_access_method 'thi column added since 12-2019 it has nulls but is useful to figure out rental access share through different channels'-ride_id -rideable_type - started_at** so i will drop these columns due very high percentage of nulls\n",
    "- also **'Unnamed: 0** has no meaning this column arise after concatination \n",
    "\n",
    "### The main features of interest in the dataset\n",
    "\n",
    "I am most interested in figuring out when and where are most trips taken because this dataset includes start time/location and end time/location. I focus on the starting points first.\n",
    "\n",
    "- Also, I am interested in what are the characteristics (user_type) of the riders and the duration of the trips in these time points and locations."
   ]
  },
  {
   "cell_type": "markdown",
   "metadata": {},
   "source": [
    "# Prelimanry Wrangling\n"
   ]
  },
  {
   "cell_type": "code",
   "execution_count": 9,
   "metadata": {},
   "outputs": [],
   "source": [
    "df['start_time'] = pd.to_datetime(df['start_time'])\n",
    "df['start_month_char'] = df['start_time'].dt.month_name()"
   ]
  },
  {
   "cell_type": "code",
   "execution_count": 10,
   "metadata": {},
   "outputs": [
    {
     "name": "stdout",
     "output_type": "stream",
     "text": [
      "February     714919\n",
      "January      582738\n",
      "October      550290\n",
      "September    502761\n",
      "July         501397\n",
      "August       486017\n",
      "November     415243\n",
      "June         390429\n",
      "March        375246\n",
      "April        370280\n",
      "December     368004\n",
      "May          361288\n",
      "Name: start_month_char, dtype: int64\n"
     ]
    }
   ],
   "source": [
    "print(df['start_month_char'].value_counts())"
   ]
  },
  {
   "cell_type": "code",
   "execution_count": 11,
   "metadata": {},
   "outputs": [
    {
     "name": "stderr",
     "output_type": "stream",
     "text": [
      "C:\\Users\\Eng-mody\\Anaconda3\\lib\\site-packages\\ipykernel_launcher.py:4: SettingWithCopyWarning: \n",
      "A value is trying to be set on a copy of a slice from a DataFrame\n",
      "\n",
      "See the caveats in the documentation: http://pandas.pydata.org/pandas-docs/stable/indexing.html#indexing-view-versus-copy\n",
      "  after removing the cwd from sys.path.\n",
      "C:\\Users\\Eng-mody\\Anaconda3\\lib\\site-packages\\ipykernel_launcher.py:5: SettingWithCopyWarning: \n",
      "A value is trying to be set on a copy of a slice from a DataFrame\n",
      "\n",
      "See the caveats in the documentation: http://pandas.pydata.org/pandas-docs/stable/indexing.html#indexing-view-versus-copy\n",
      "  \"\"\"\n"
     ]
    }
   ],
   "source": [
    " # Converting time of the day into label morning - afternoon and night \n",
    "df['start_hour'] = df['start_time'].dt.hour\n",
    "df['period_day'] = 'morning'\n",
    "df['period_day'][(df['start_hour'] >= 12) & (df['start_hour'] <= 17)] = 'afternoon'\n",
    "df['period_day'][(df['start_hour'] >= 18) & (df['start_hour'] <= 23)] = 'night'"
   ]
  },
  {
   "cell_type": "code",
   "execution_count": 12,
   "metadata": {},
   "outputs": [
    {
     "name": "stdout",
     "output_type": "stream",
     "text": [
      "17.0    657795\n",
      "8.0     614096\n",
      "18.0    511861\n",
      "9.0     476660\n",
      "16.0    436553\n",
      "19.0    315706\n",
      "7.0     308392\n",
      "15.0    292537\n",
      "12.0    269522\n",
      "13.0    264297\n",
      "14.0    253625\n",
      "10.0    252678\n",
      "11.0    241108\n",
      "20.0    203159\n",
      "21.0    144091\n",
      "6.0     112807\n",
      "22.0     97144\n",
      "23.0     58043\n",
      "0.0      32357\n",
      "5.0      29656\n",
      "1.0      19469\n",
      "2.0      12618\n",
      "4.0       8052\n",
      "3.0       6386\n",
      "Name: start_hour, dtype: int64\n",
      "morning      2336789\n",
      "afternoon    2174329\n",
      "night        1330004\n",
      "Name: period_day, dtype: int64\n"
     ]
    }
   ],
   "source": [
    "# Test: start hour and time of day\n",
    "print(df['start_hour'].value_counts())\n",
    "print(df['period_day'].value_counts())"
   ]
  },
  {
   "cell_type": "code",
   "execution_count": 13,
   "metadata": {},
   "outputs": [],
   "source": [
    "df['start_weekday'] = df['start_time'].dt.day_name()"
   ]
  },
  {
   "cell_type": "code",
   "execution_count": 14,
   "metadata": {},
   "outputs": [
    {
     "name": "stdout",
     "output_type": "stream",
     "text": [
      "Thursday     942730\n",
      "Tuesday      942358\n",
      "Wednesday    938169\n",
      "Friday       890382\n",
      "Monday       870920\n",
      "Saturday     547852\n",
      "Sunday       486201\n",
      "Name: start_weekday, dtype: int64\n"
     ]
    }
   ],
   "source": [
    "print(df['start_weekday'].value_counts())"
   ]
  },
  {
   "cell_type": "code",
   "execution_count": 15,
   "metadata": {},
   "outputs": [],
   "source": [
    "df['year']= df['start_time'].dt.year"
   ]
  },
  {
   "cell_type": "code",
   "execution_count": 16,
   "metadata": {},
   "outputs": [],
   "source": [
    "# convert time period, month, and weekday into ordered categorical types\n",
    "ordinal_var_dict = {'start_month_char': ['January','February','March','April','May','June','July','August','September','October','November','December'],\n",
    "                    'period_day': ['morning', 'afternoon', 'night'],\n",
    "                    'start_weekday': ['Monday', 'Tuesday', 'Wednesday', 'Thursday', 'Friday', 'Saturday', 'Sunday']}\n",
    "\n",
    "for var in ordinal_var_dict:\n",
    "    ordered_var = pd.api.types.CategoricalDtype(ordered = True,\n",
    "                                                categories = ordinal_var_dict[var])\n",
    "    df[var] = df[var].astype(ordered_var)"
   ]
  },
  {
   "cell_type": "code",
   "execution_count": 17,
   "metadata": {},
   "outputs": [],
   "source": [
    "df.drop('Unnamed: 0',inplace = True,axis=1)"
   ]
  },
  {
   "cell_type": "markdown",
   "metadata": {},
   "source": [
    "# Step 2: Explore Your Data\n",
    "\n",
    "It’s time to get to the interesting bits. Explore your data and document your findings in a report. The report should briefly introduce the dataset, then systematically walk through the points of exploration that you conducted. You should have headers and text that organize your thoughts and findings. Visualizations in this part of the project need not be completely polished: this is just your own exploration at this point. However, you should still make sure that you adhere to principles of using appropriate plot types and encodings so that accurate conclusions can be drawn, and that you have enough comments and labeling so that when you return to your work, you can quickly grasp your analysis steps."
   ]
  },
  {
   "cell_type": "markdown",
   "metadata": {},
   "source": [
    "# I-Univariate Exploration\n",
    "\n",
    "In this step i will plot using single variable to explain counts or distribution of this varialbe "
   ]
  },
  {
   "cell_type": "code",
   "execution_count": 18,
   "metadata": {},
   "outputs": [
    {
     "data": {
      "image/png": "[encoded data removed]",
      "text/plain": [
       "<Figure size 432x288 with 1 Axes>"
      ]
     },
     "metadata": {
      "needs_background": "light"
     },
     "output_type": "display_data"
    }
   ],
   "source": [
    "# 1. Time by months \n",
    "base_color = sns.color_palette()[0]\n",
    "sns.countplot(data=df, x='start_month_char', color=base_color)\n",
    "plt.xlabel('Start Time by Month')\n",
    "plt.ylabel('Count')\n",
    "plt.xticks(rotation=90)\n",
    "plt.title('Month distribution');"
   ]
  },
  {
   "cell_type": "markdown",
   "metadata": {},
   "source": [
    "We have to take in our consdieration that,[info about fordbike](https://en.wikipedia.org/wiki/Ford_GoBike) Ford GoBike was launched since June 28, 2017. There is no data before June 28, 2017"
   ]
  },
  {
   "cell_type": "code",
   "execution_count": 19,
   "metadata": {},
   "outputs": [
    {
     "data": {
      "image/png": "[encoded data removed]",
      "text/plain": [
       "<Figure size 432x288 with 1 Axes>"
      ]
     },
     "metadata": {
      "needs_background": "light"
     },
     "output_type": "display_data"
    }
   ],
   "source": [
    "# 1. distribution according to week day\n",
    "base_color = sns.color_palette()[0]\n",
    "sns.countplot(data=df, x='start_weekday', color=base_color)\n",
    "plt.xlabel('Start Time by Weekday')\n",
    "plt.ylabel('Count')\n",
    "plt.xticks(rotation=90)\n",
    "plt.title('Week day distribution');"
   ]
  },
  {
   "cell_type": "code",
   "execution_count": 20,
   "metadata": {},
   "outputs": [
    {
     "data": {
      "image/png": "[encoded data removed]",
      "text/plain": [
       "<Figure size 432x288 with 1 Axes>"
      ]
     },
     "metadata": {
      "needs_background": "light"
     },
     "output_type": "display_data"
    }
   ],
   "source": [
    "# 1. Time by period in each day \n",
    "base_color = sns.color_palette()[0]\n",
    "sns.countplot(data=df, x='period_day', color=base_color)\n",
    "plt.xlabel('Start Time by Period in the Day')\n",
    "plt.ylabel('Count')\n",
    "plt.ylim((0,2500000))\n",
    "plt.xticks(rotation=90)\n",
    "plt.title('During day distribution');"
   ]
  },
  {
   "cell_type": "code",
   "execution_count": 21,
   "metadata": {},
   "outputs": [
    {
     "data": {
      "image/png": "[encoded data removed]",
      "text/plain": [
       "<Figure size 432x288 with 1 Axes>"
      ]
     },
     "metadata": {
      "needs_background": "light"
     },
     "output_type": "display_data"
    }
   ],
   "source": [
    "base_color = sns.color_palette()[0]\n",
    "sns.countplot(data=df, x='rental_access_method', color=base_color)\n",
    "plt.xlabel('Diversity in rental methods')\n",
    "plt.ylabel('Count')\n",
    "plt.xticks(rotation=90)\n",
    "plt.title('Rental methods distribution');"
   ]
  },
  {
   "cell_type": "markdown",
   "metadata": {},
   "source": [
    "## Investigate most popular stations "
   ]
  },
  {
   "cell_type": "code",
   "execution_count": 22,
   "metadata": {},
   "outputs": [],
   "source": [
    "top_start_station = list(df['start_station_name'].value_counts()[:10].index)"
   ]
  },
  {
   "cell_type": "code",
   "execution_count": 23,
   "metadata": {},
   "outputs": [],
   "source": [
    "# Do they have high traffics as end stations? Looks like yes!\n",
    "top_end_station=list(df['end_station_name'].value_counts()[:10].index)"
   ]
  },
  {
   "cell_type": "code",
   "execution_count": 24,
   "metadata": {},
   "outputs": [],
   "source": [
    "df2=df[df['start_station_name'].isin(top_start_station)]\n",
    "order1= df2[\"start_station_name\"].value_counts().index.values\n"
   ]
  },
  {
   "cell_type": "code",
   "execution_count": 25,
   "metadata": {},
   "outputs": [],
   "source": [
    "df3=df[df['end_station_name'].isin(top_start_station)]\n",
    "order2= df3[\"end_station_name\"].value_counts().index.values"
   ]
  },
  {
   "cell_type": "code",
   "execution_count": 26,
   "metadata": {},
   "outputs": [
    {
     "data": {
      "image/png": "[encoded data removed]",
      "text/plain": [
       "<Figure size 432x288 with 1 Axes>"
      ]
     },
     "metadata": {
      "needs_background": "light"
     },
     "output_type": "display_data"
    }
   ],
   "source": [
    "base_color = sns.color_palette()[0]\n",
    "sns.countplot(data=df2, y='start_station_name', color=base_color,order=order1)\n",
    "plt.xlabel(\"Frequency of rides form top 10 start station \")\n",
    "plt.ylabel('Count')\n",
    "plt.xticks(rotation=90)\n",
    "plt.title('Rides distribution for top start stations');"
   ]
  },
  {
   "cell_type": "code",
   "execution_count": 27,
   "metadata": {},
   "outputs": [
    {
     "data": {
      "image/png": "[encoded data removed]",
      "text/plain": [
       "<Figure size 432x288 with 1 Axes>"
      ]
     },
     "metadata": {
      "needs_background": "light"
     },
     "output_type": "display_data"
    }
   ],
   "source": [
    "base_color = sns.color_palette()[0]\n",
    "sns.countplot(data=df3, y='end_station_name', color=base_color,order=order2)\n",
    "plt.xlabel(\"Frequency of rides form top 10 end station \")\n",
    "plt.ylabel('Count')\n",
    "plt.xticks(rotation=90)\n",
    "plt.title('Rides distribution for top end stations');"
   ]
  },
  {
   "cell_type": "markdown",
   "metadata": {},
   "source": [
    "## Findings\n",
    "\n",
    "After checking start and end stations, most stations in San Francisco connect to public transportations such as Caltrain, Bart and Ferry. The Embarcadero at Sansome St is very closed to Ferry building and located in financial distrit. Market St at 10th St and Berry St at 4th St are also closed to Bart station. I will look into the time factors in these 8 locations."
   ]
  },
  {
   "cell_type": "code",
   "execution_count": 28,
   "metadata": {},
   "outputs": [
    {
     "data": {
      "image/png": "[encoded data removed]",
      "text/plain": [
       "<Figure size 720x1080 with 3 Axes>"
      ]
     },
     "metadata": {
      "needs_background": "light"
     },
     "output_type": "display_data"
    }
   ],
   "source": [
    "fig, ax = plt.subplots(nrows=3, figsize = [10,15])\n",
    "default_color = sns.color_palette()[0]\n",
    "sns.countplot(data = df2, x = 'start_month_char', color = default_color, ax = ax[0])\n",
    "sns.countplot(data = df2, x = 'period_day', color = default_color, ax = ax[1])\n",
    "sns.countplot(data = df2, x = 'start_weekday', color = default_color, ax = ax[2])\n",
    "ax[0].set_xlabel('Start Month')\n",
    "ax[0].set_ylabel('Count')\n",
    "ax[1].set_xlabel('Time of Day')\n",
    "ax[1].set_ylabel('Count')\n",
    "ax[2].set_xlabel('Start Weekday')\n",
    "ax[2].set_ylabel('Count')\n",
    "plt.setp( ax[0].xaxis.get_majorticklabels(), rotation=90 )\n",
    "plt.setp( ax[1].xaxis.get_majorticklabels(), rotation=90 )\n",
    "plt.setp( ax[2].xaxis.get_majorticklabels(), rotation=90 )\n",
    "plt.subplots_adjust(hspace=0.5)\n",
    "fig.suptitle('Trips\\' Count in Each Time Group in Top 8 stations');"
   ]
  },
  {
   "cell_type": "code",
   "execution_count": null,
   "metadata": {},
   "outputs": [],
   "source": []
  }
 ],
 "metadata": {
  "kernelspec": {
   "display_name": "Python 3",
   "language": "python",
   "name": "python3"
  },
  "language_info": {
   "codemirror_mode": {
    "name": "ipython",
    "version": 3
   },
   "file_extension": ".py",
   "mimetype": "text/x-python",
   "name": "python",
   "nbconvert_exporter": "python",
   "pygments_lexer": "ipython3",
   "version": "3.7.3"
  },
  "toc": {
   "base_numbering": 1,
   "nav_menu": {},
   "number_sections": false,
   "sideBar": true,
   "skip_h1_title": false,
   "title_cell": "Table of Contents",
   "title_sidebar": "Contents",
   "toc_cell": false,
   "toc_position": {},
   "toc_section_display": true,
   "toc_window_display": false
  }
 },
 "nbformat": 4,
 "nbformat_minor": 2
}

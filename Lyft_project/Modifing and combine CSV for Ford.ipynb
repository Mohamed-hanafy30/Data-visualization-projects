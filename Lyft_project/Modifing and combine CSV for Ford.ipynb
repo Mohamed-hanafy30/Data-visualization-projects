{
 "cells": [
  {
   "cell_type": "code",
   "execution_count": 1,
   "metadata": {},
   "outputs": [],
   "source": [
    "import pandas as pd\n",
    "import numpy as np\n",
    "import gc"
   ]
  },
  {
   "cell_type": "code",
   "execution_count": 2,
   "metadata": {},
   "outputs": [],
   "source": [
    "# First i will read csv file for each year then combine them for each year and finally merge all years in one csv file \n",
    "\n",
    "csv_2017 = pd.read_csv(r'C:\\Users\\Eng-mody\\Desktop\\Gitrepo\\Data-visualization-projects\\2017_data\\2017-fordgobike-tripdata.csv')\n",
    "\n",
    "data_2018 = [r'C:\\Users\\Eng-mody\\Desktop\\Gitrepo\\Data-visualization-projects\\2018_data\\201801-fordgobike-tripdata.csv',\n",
    "             r'C:\\Users\\Eng-mody\\Desktop\\Gitrepo\\Data-visualization-projects\\2018_data\\201802-fordgobike-tripdata.csv',\n",
    "             r'C:\\Users\\Eng-mody\\Desktop\\Gitrepo\\Data-visualization-projects\\2018_data\\201803-fordgobike-tripdata.csv',\n",
    "             r'C:\\Users\\Eng-mody\\Desktop\\Gitrepo\\Data-visualization-projects\\2018_data\\201804-fordgobike-tripdata.csv',\n",
    "             r'C:\\Users\\Eng-mody\\Desktop\\Gitrepo\\Data-visualization-projects\\2018_data\\201805-fordgobike-tripdata.csv',\n",
    "             r'C:\\Users\\Eng-mody\\Desktop\\Gitrepo\\Data-visualization-projects\\2018_data\\201806-fordgobike-tripdata.csv',\n",
    "             r'C:\\Users\\Eng-mody\\Desktop\\Gitrepo\\Data-visualization-projects\\2018_data\\201807-fordgobike-tripdata.csv',\n",
    "             r'C:\\Users\\Eng-mody\\Desktop\\Gitrepo\\Data-visualization-projects\\2018_data\\201808-fordgobike-tripdata.csv',\n",
    "             r'C:\\Users\\Eng-mody\\Desktop\\Gitrepo\\Data-visualization-projects\\2018_data\\201809-fordgobike-tripdata.csv',\n",
    "             r'C:\\Users\\Eng-mody\\Desktop\\Gitrepo\\Data-visualization-projects\\2018_data\\201810-fordgobike-tripdata.csv',\n",
    "             r'C:\\Users\\Eng-mody\\Desktop\\Gitrepo\\Data-visualization-projects\\2018_data\\201811-fordgobike-tripdata.csv',\n",
    "             r'C:\\Users\\Eng-mody\\Desktop\\Gitrepo\\Data-visualization-projects\\2018_data\\201812-fordgobike-tripdata.csv']\n",
    "\n",
    "\n",
    "data_2019 = [r'C:\\Users\\Eng-mody\\Desktop\\Gitrepo\\Data-visualization-projects\\2019_data\\201901-fordgobike-tripdata.csv',\n",
    "             r'C:\\Users\\Eng-mody\\Desktop\\Gitrepo\\Data-visualization-projects\\2019_data\\201902-fordgobike-tripdata.csv',\n",
    "             r'C:\\Users\\Eng-mody\\Desktop\\Gitrepo\\Data-visualization-projects\\2019_data\\201903-fordgobike-tripdata.csv',\n",
    "             r'C:\\Users\\Eng-mody\\Desktop\\Gitrepo\\Data-visualization-projects\\2019_data\\201904-fordgobike-tripdata.csv',\n",
    "             r'C:\\Users\\Eng-mody\\Desktop\\Gitrepo\\Data-visualization-projects\\2019_data\\201905-baywheels-tripdata.csv',\n",
    "             r'C:\\Users\\Eng-mody\\Desktop\\Gitrepo\\Data-visualization-projects\\2019_data\\201906-baywheels-tripdata.csv',\n",
    "             r'C:\\Users\\Eng-mody\\Desktop\\Gitrepo\\Data-visualization-projects\\2019_data\\201907-baywheels-tripdata.csv',\n",
    "             r'C:\\Users\\Eng-mody\\Desktop\\Gitrepo\\Data-visualization-projects\\2019_data\\201908-baywheels-tripdata.csv',\n",
    "             r'C:\\Users\\Eng-mody\\Desktop\\Gitrepo\\Data-visualization-projects\\2019_data\\201909-baywheels-tripdata.csv',\n",
    "             r'C:\\Users\\Eng-mody\\Desktop\\Gitrepo\\Data-visualization-projects\\2019_data\\201910-baywheels-tripdata.csv',\n",
    "             r'C:\\Users\\Eng-mody\\Desktop\\Gitrepo\\Data-visualization-projects\\2019_data\\201911-baywheels-tripdata.csv',\n",
    "             r'C:\\Users\\Eng-mody\\Desktop\\Gitrepo\\Data-visualization-projects\\2019_data\\201912-baywheels-tripdata.csv']\n",
    "\n",
    "\n",
    "\n",
    "data_2020 = [r'C:\\Users\\Eng-mody\\Desktop\\Gitrepo\\Data-visualization-projects\\2020_data\\202001-baywheels-tripdata.csv',\n",
    "             r'C:\\Users\\Eng-mody\\Desktop\\Gitrepo\\Data-visualization-projects\\2020_data\\202002-baywheels-tripdata.csv',\n",
    "             r'C:\\Users\\Eng-mody\\Desktop\\Gitrepo\\Data-visualization-projects\\2020_data\\202003-baywheels-tripdata.csv',\n",
    "             r'C:\\Users\\Eng-mody\\Desktop\\Gitrepo\\Data-visualization-projects\\2020_data\\202004-baywheels-tripdata.csv',\n",
    "             r'C:\\Users\\Eng-mody\\Desktop\\Gitrepo\\Data-visualization-projects\\2020_data\\202005-baywheels-tripdata.csv',\n",
    "             r'C:\\Users\\Eng-mody\\Desktop\\Gitrepo\\Data-visualization-projects\\2020_data\\202006-baywheels-tripdata.csv']\n",
    "\n",
    "\n"
   ]
  },
  {
   "cell_type": "code",
   "execution_count": 3,
   "metadata": {},
   "outputs": [],
   "source": [
    "df_2018 = [pd.read_csv(f) for f in data_2018]\n",
    "\n",
    "csv_2018 = pd.concat(df_2018, ignore_index=True)"
   ]
  },
  {
   "cell_type": "code",
   "execution_count": 4,
   "metadata": {},
   "outputs": [
    {
     "data": {
      "text/plain": [
       "20"
      ]
     },
     "execution_count": 4,
     "metadata": {},
     "output_type": "execute_result"
    }
   ],
   "source": [
    "gc.collect()"
   ]
  },
  {
   "cell_type": "code",
   "execution_count": 5,
   "metadata": {},
   "outputs": [
    {
     "name": "stderr",
     "output_type": "stream",
     "text": [
      "C:\\Users\\Eng-mody\\Anaconda3\\lib\\site-packages\\IPython\\core\\interactiveshell.py:3248: DtypeWarning: Columns (14) have mixed types. Specify dtype option on import or set low_memory=False.\n",
      "  if (await self.run_code(code, result,  async_=asy)):\n",
      "C:\\Users\\Eng-mody\\Anaconda3\\lib\\site-packages\\IPython\\core\\interactiveshell.py:3248: DtypeWarning: Columns (13,14) have mixed types. Specify dtype option on import or set low_memory=False.\n",
      "  if (await self.run_code(code, result,  async_=asy)):\n",
      "C:\\Users\\Eng-mody\\Anaconda3\\lib\\site-packages\\IPython\\core\\interactiveshell.py:3248: DtypeWarning: Columns (13) have mixed types. Specify dtype option on import or set low_memory=False.\n",
      "  if (await self.run_code(code, result,  async_=asy)):\n",
      "C:\\Users\\Eng-mody\\Anaconda3\\lib\\site-packages\\ipykernel_launcher.py:3: FutureWarning: Sorting because non-concatenation axis is not aligned. A future version\n",
      "of pandas will change to not sort by default.\n",
      "\n",
      "To accept the future behavior, pass 'sort=False'.\n",
      "\n",
      "To retain the current behavior and silence the warning, pass 'sort=True'.\n",
      "\n",
      "  This is separate from the ipykernel package so we can avoid doing imports until\n"
     ]
    }
   ],
   "source": [
    "df_2019 = [pd.read_csv(f) for f in data_2019]\n",
    "\n",
    "csv_2019 = pd.concat(df_2019, ignore_index=True)"
   ]
  },
  {
   "cell_type": "code",
   "execution_count": 6,
   "metadata": {},
   "outputs": [
    {
     "data": {
      "text/plain": [
       "20"
      ]
     },
     "execution_count": 6,
     "metadata": {},
     "output_type": "execute_result"
    }
   ],
   "source": [
    "gc.collect()"
   ]
  },
  {
   "cell_type": "code",
   "execution_count": 7,
   "metadata": {},
   "outputs": [
    {
     "name": "stderr",
     "output_type": "stream",
     "text": [
      "C:\\Users\\Eng-mody\\Anaconda3\\lib\\site-packages\\ipykernel_launcher.py:3: FutureWarning: Sorting because non-concatenation axis is not aligned. A future version\n",
      "of pandas will change to not sort by default.\n",
      "\n",
      "To accept the future behavior, pass 'sort=False'.\n",
      "\n",
      "To retain the current behavior and silence the warning, pass 'sort=True'.\n",
      "\n",
      "  This is separate from the ipykernel package so we can avoid doing imports until\n"
     ]
    }
   ],
   "source": [
    "df_2020 = [pd.read_csv(f) for f in data_2020]\n",
    "\n",
    "csv_2020 = pd.concat(df_2020, ignore_index=True)"
   ]
  },
  {
   "cell_type": "code",
   "execution_count": 8,
   "metadata": {},
   "outputs": [
    {
     "data": {
      "text/plain": [
       "20"
      ]
     },
     "execution_count": 8,
     "metadata": {},
     "output_type": "execute_result"
    }
   ],
   "source": [
    "gc.collect()"
   ]
  },
  {
   "cell_type": "code",
   "execution_count": 13,
   "metadata": {},
   "outputs": [
    {
     "name": "stderr",
     "output_type": "stream",
     "text": [
      "C:\\Users\\Eng-mody\\Anaconda3\\lib\\site-packages\\ipykernel_launcher.py:1: FutureWarning: Sorting because non-concatenation axis is not aligned. A future version\n",
      "of pandas will change to not sort by default.\n",
      "\n",
      "To accept the future behavior, pass 'sort=False'.\n",
      "\n",
      "To retain the current behavior and silence the warning, pass 'sort=True'.\n",
      "\n",
      "  \"\"\"Entry point for launching an IPython kernel.\n"
     ]
    }
   ],
   "source": [
    "data = pd.concat([csv_2017,csv_2018,csv_2019,csv_2020])"
   ]
  },
  {
   "cell_type": "code",
   "execution_count": 14,
   "metadata": {},
   "outputs": [],
   "source": [
    "data.to_csv(r'C:\\Users\\Eng-mody\\Desktop\\Gitrepo\\Data-visualization-projects\\data.csv')"
   ]
  },
  {
   "cell_type": "code",
   "execution_count": 15,
   "metadata": {},
   "outputs": [
    {
     "data": {
      "text/plain": [
       "1698"
      ]
     },
     "execution_count": 15,
     "metadata": {},
     "output_type": "execute_result"
    }
   ],
   "source": [
    "gc.collect()"
   ]
  },
  {
   "cell_type": "code",
   "execution_count": 16,
   "metadata": {},
   "outputs": [],
   "source": [
    "del(data)"
   ]
  }
 ],
 "metadata": {
  "kernelspec": {
   "display_name": "Python 3",
   "language": "python",
   "name": "python3"
  },
  "language_info": {
   "codemirror_mode": {
    "name": "ipython",
    "version": 3
   },
   "file_extension": ".py",
   "mimetype": "text/x-python",
   "name": "python",
   "nbconvert_exporter": "python",
   "pygments_lexer": "ipython3",
   "version": "3.7.3"
  },
  "toc": {
   "base_numbering": 1,
   "nav_menu": {},
   "number_sections": false,
   "sideBar": true,
   "skip_h1_title": false,
   "title_cell": "Table of Contents",
   "title_sidebar": "Contents",
   "toc_cell": false,
   "toc_position": {},
   "toc_section_display": true,
   "toc_window_display": false
  }
 },
 "nbformat": 4,
 "nbformat_minor": 2
}
